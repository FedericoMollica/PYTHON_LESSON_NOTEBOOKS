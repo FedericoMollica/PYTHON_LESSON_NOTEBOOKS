{
 "cells": [
  {
   "cell_type": "code",
   "execution_count": 11,
   "metadata": {},
   "outputs": [
    {
     "name": "stdout",
     "output_type": "stream",
     "text": [
      "Corey\n",
      "Federico.@company.com\n",
      "Federico Mollica\n",
      "Corey Schafer\n"
     ]
    }
   ],
   "source": [
    "'''\n",
    "XXXXX  VIDEO 1 XXXXX\n",
    "\n",
    "CREATING AND INITIATING CLASSES\n",
    "'''\n",
    "\n",
    "#if we have a class we want to leave for now you can just add 'pass'\n",
    "#A class is a blueprint to create Instances\n",
    "#An Instance of a class if a specific attribute of the class\n",
    "#When we create a class we have to def instance of self with all the other argument of the class\n",
    "#each definition of the class is called method and automatically takes the first argument of the class 'self'\n",
    "class Employee:\n",
    "    def __init__(self, first, last, pay):\n",
    "        self.first = first\n",
    "        self.last = last\n",
    "        self.email = first + '.' + '@company.com'\n",
    "        self.pay = pay\n",
    "        \n",
    "    def fullname(self):\n",
    "        return '{} {}'.format(self.first, self.last)\n",
    "        #definition to recall two arguments of the same class\n",
    "        \n",
    "    pass\n",
    "\n",
    "emp_1 = Employee('Corey', 'Schafer', 50000)\n",
    "emp_2 = Employee('Federico', 'Mollica', 65000)\n",
    "#those are instances of the main class\n",
    "\n",
    "'''\n",
    "DIFFERENT WAY OF PRINTING INSTANCES ARGUMENTS OF THE SAME CLASSES \n",
    "'''\n",
    "\n",
    "#you can print just the attribute you want\n",
    "print(emp_1.first)\n",
    "print(emp_2.email)\n",
    "#result:\n",
    "#Corey\n",
    "#Federico.@company.com\n",
    "\n",
    "print(emp_2.fullname())\n",
    "#result:\n",
    "#Federico Mollica\n",
    "\n",
    "print(Employee.fullname(emp_1))\n",
    "#result:\n",
    "#Corey Schafer"
   ]
  },
  {
   "cell_type": "code",
   "execution_count": 85,
   "metadata": {},
   "outputs": [
    {
     "name": "stdout",
     "output_type": "stream",
     "text": [
      "{'first': 'Corey', 'last': 'Schafer', 'email': 'Corey.@company.com', 'pay': 50000, 'next_pay': 52000}\n",
      "1.04\n",
      "1.1\n",
      "52000\n",
      "67600\n",
      "2\n"
     ]
    }
   ],
   "source": [
    "'''\n",
    "XXXXX  VIDEO 2 XXXXX\n",
    "\n",
    "CLASSES AND VARIABLES\n",
    "'''\n",
    "\n",
    "class Employee:\n",
    "    \n",
    "    num_of_emps = 0\n",
    "    raise_amount = 1.04\n",
    "    \n",
    "    def __init__(self, first, last, pay):\n",
    "        self.first = first\n",
    "        self.last = last\n",
    "        self.email = first + '.' + '@company.com'\n",
    "        self.pay = pay\n",
    "        self.next_pay = int(self.pay * self.raise_amount) #calculate a 4% raise from the main salary\n",
    "        \n",
    "        Employee.num_of_emps += 1\n",
    "        #if I set this increment here, it will count each instances i create from the main class\n",
    "        \n",
    "    def fullname(self):\n",
    "        return '{} {}'.format(self.first, self.last)\n",
    "        #definition to recall two arguments of the same class \n",
    "    pass\n",
    "\n",
    "emp_1 = Employee('Corey', 'Schafer', 50000)\n",
    "emp_2 = Employee('Federico', 'Mollica', 65000)\n",
    "#those are instances of the main class\n",
    "\n",
    "emp_2.raise_amount = 1.1\n",
    "\n",
    "#we can recall a class argument to assign a different value\n",
    "#this allow us to recall the same argument per instances but with specific values\n",
    "\n",
    "'''\n",
    "DIFFERENT WAY OF PRINTING INSTANCES ARGUMENTS OF THE SAME CLASSES \n",
    "'''\n",
    "\n",
    "print(emp_1.__dict__)\n",
    "#code to get all the different arguments of my class\n",
    "#result:\n",
    "#{'first': 'Corey', 'last': 'Schafer', 'email': 'Corey.@company.com', 'pay': 50000, 'next_pay': 52000}\n",
    "\n",
    "print(emp_1.raise_amount)\n",
    "#result: \n",
    "#1.04\n",
    "\n",
    "print(emp_2.raise_amount)\n",
    "#result: \n",
    "#1.1\n",
    "\n",
    "print(emp_1.next_pay)\n",
    "#result: \n",
    "#52000\n",
    "\n",
    "print(emp_2.next_pay)\n",
    "#result: \n",
    "#67600\n",
    "\n",
    "print(Employee.num_of_emps)\n",
    "#result: \n",
    "#2"
   ]
  },
  {
   "cell_type": "code",
   "execution_count": 86,
   "metadata": {},
   "outputs": [
    {
     "data": {
      "text/plain": [
       "'\\nXXXXX  VIDEO 3 XXXXX\\n\\nCLASSMETHODS AND STATICMETHODS\\n'"
      ]
     },
     "execution_count": 86,
     "metadata": {},
     "output_type": "execute_result"
    }
   ],
   "source": [
    "'''\n",
    "XXXXX  VIDEO 3 XXXXX\n",
    "\n",
    "CLASSMETHODS AND STATICMETHODS\n",
    "'''\n",
    "\n"
   ]
  },
  {
   "cell_type": "code",
   "execution_count": 87,
   "metadata": {},
   "outputs": [
    {
     "name": "stdout",
     "output_type": "stream",
     "text": [
      "{'first': 'Corey', 'last': 'Schafer', 'email': 'Corey.@company.com', 'pay': 50000, 'next_pay': 52000}\n"
     ]
    }
   ],
   "source": [
    "print(emp_1.__dict__)"
   ]
  },
  {
   "cell_type": "code",
   "execution_count": null,
   "metadata": {},
   "outputs": [],
   "source": []
  }
 ],
 "metadata": {
  "kernelspec": {
   "display_name": "Python 3",
   "language": "python",
   "name": "python3"
  },
  "language_info": {
   "codemirror_mode": {
    "name": "ipython",
    "version": 3
   },
   "file_extension": ".py",
   "mimetype": "text/x-python",
   "name": "python",
   "nbconvert_exporter": "python",
   "pygments_lexer": "ipython3",
   "version": "3.8.5"
  }
 },
 "nbformat": 4,
 "nbformat_minor": 4
}
